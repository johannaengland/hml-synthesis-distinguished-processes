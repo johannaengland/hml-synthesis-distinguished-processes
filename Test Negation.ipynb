{
 "cells": [
  {
   "cell_type": "code",
   "execution_count": 1,
   "id": "fde0cc5d",
   "metadata": {},
   "outputs": [],
   "source": [
    "from parse import parse\n",
    "from formula_functions import negate_formula, formula_to_str"
   ]
  },
  {
   "cell_type": "code",
   "execution_count": 2,
   "id": "a6174b7e",
   "metadata": {},
   "outputs": [
    {
     "name": "stdout",
     "output_type": "stream",
     "text": [
      "false\n"
     ]
    }
   ],
   "source": [
    "formula_1 = parse(\"true\")\n",
    "negated_formula_1 = negate_formula(formula_1)\n",
    "print(formula_to_str(negated_formula_1))"
   ]
  },
  {
   "cell_type": "code",
   "execution_count": 3,
   "id": "6f0a8ba0",
   "metadata": {},
   "outputs": [
    {
     "name": "stdout",
     "output_type": "stream",
     "text": [
      "(([a]false or [c]false) and <b>true)\n"
     ]
    }
   ],
   "source": [
    "formula_2 = parse(\"((<a>true and <c>true) or [b]false)\")\n",
    "negated_formula_2 = negate_formula(formula_2)\n",
    "print(formula_to_str(negated_formula_2))"
   ]
  },
  {
   "cell_type": "code",
   "execution_count": 4,
   "id": "578537e9",
   "metadata": {},
   "outputs": [
    {
     "name": "stdout",
     "output_type": "stream",
     "text": [
      "([a]false and <b>true)\n"
     ]
    }
   ],
   "source": [
    "formula_3 = parse(\"(<a>true or [b]false)\")\n",
    "negated_formula_3 = negate_formula(formula_3)\n",
    "print(formula_to_str(negated_formula_3))"
   ]
  },
  {
   "cell_type": "code",
   "execution_count": 5,
   "id": "42e57494",
   "metadata": {},
   "outputs": [
    {
     "name": "stdout",
     "output_type": "stream",
     "text": [
      "([b]false or <a>true)\n"
     ]
    }
   ],
   "source": [
    "formula_4 = parse(\"(<b>true and [a]false)\")\n",
    "negated_formula_4 = negate_formula(formula_4)\n",
    "print(formula_to_str(negated_formula_4))"
   ]
  }
 ],
 "metadata": {
  "kernelspec": {
   "display_name": "Python 3 (ipykernel)",
   "language": "python",
   "name": "python3"
  },
  "language_info": {
   "codemirror_mode": {
    "name": "ipython",
    "version": 3
   },
   "file_extension": ".py",
   "mimetype": "text/x-python",
   "name": "python",
   "nbconvert_exporter": "python",
   "pygments_lexer": "ipython3",
   "version": "3.8.10"
  }
 },
 "nbformat": 4,
 "nbformat_minor": 5
}
